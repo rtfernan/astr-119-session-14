{
 "cells": [
  {
   "cell_type": "markdown",
   "metadata": {},
   "source": [
    "## Create a simple solar system model"
   ]
  },
  {
   "cell_type": "code",
   "execution_count": null,
   "metadata": {},
   "outputs": [],
   "source": [
    "%matplotlib inline\n",
    "import matplotlib.pyplot as plt\n",
    "import numpy as np\n",
    "from collections import namedtuple"
   ]
  },
  {
   "cell_type": "markdown",
   "metadata": {},
   "source": [
    "## Define a planet class"
   ]
  },
  {
   "cell_type": "code",
   "execution_count": null,
   "metadata": {},
   "outputs": [],
   "source": [
    "class planet():\n",
    "    \"A planet in our solar system\"\n",
    "    def __int__(self,semimajor,eccentricity):\n",
    "        self.x   = np.array(2)  #x and y position\n",
    "        self.v   = np.array(2)  #x and y velocity\n",
    "        self.a_g = np.array(2)  #x and y acceleration\n",
    "        self.t   = 0.0          #current time\n",
    "        self.dt  = 0.0          #current timestep\n",
    "        self.a   = semimajor    #semimajor axis of orbit\n",
    "        self.e   = eccentricity #eccentricity of the orbit\n",
    "        self.istep = 0          #current integer timestep"
   ]
  },
  {
   "cell_type": "markdown",
   "metadata": {},
   "source": [
    "## Define a dictionary with some constants"
   ]
  },
  {
   "cell_type": "code",
   "execution_count": null,
   "metadata": {},
   "outputs": [],
   "source": [
    "solar_system = {\"M_sun\":1.0, \"G\":39.4784176053574320}"
   ]
  },
  {
   "cell_type": "markdown",
   "metadata": {},
   "source": [
    "## Define some functions for setting circular velocity and acceleration"
   ]
  },
  {
   "cell_type": "code",
   "execution_count": null,
   "metadata": {},
   "outputs": [],
   "source": [
    "def solar_gravitational_acceleration(p, solar_system):\n",
    "    \n",
    "    G = solar_system[\"G\"]\n",
    "    M = solar_system[\"M_sun\"]\n",
    "    r = (p.x[0]**2 + p.x[1]**2)**0.5\n",
    "    \n",
    "    #return the circular velocity\n",
    "    return (G*M/r)**0.5"
   ]
  },
  {
   "cell_type": "code",
   "execution_count": null,
   "metadata": {},
   "outputs": [],
   "source": [
    "def solar_gravitational_acceleration(p, solar_system):\n",
    "    \n",
    "    G = solar_system[\"G\"]\n",
    "    M = solar_system[\"M_sun\"]\n",
    "    r = (p.x[0]**2 + p.x[1]**2)**0.5\n",
    "    \n",
    "    #acceleration in AU/yr/yr\n",
    "    a_grac = -1.0*G*M/r**2\n",
    "    \n",
    "    #find the angle at this position\n",
    "    if(p.x[0]==0.0):\n",
    "        if(p.x[1]>0.0):\n",
    "            theta = 0.5*np.pi\n",
    "        else:\n",
    "            theta = 1.5*np.pi\n",
    "    else:\n",
    "        theta = np.atan(p.x[1],p.x[0])\n",
    "        \n",
    "    #set the x and y components of the velocity \n",
    "    p.a_g[0] = a_grav * np.cos(theta)\n",
    "    p.a_g[1] = a_grav * np.sin(theta)"
   ]
  },
  {
   "cell_type": "markdown",
   "metadata": {},
   "source": [
    "## Compute the timestep"
   ]
  },
  {
   "cell_type": "code",
   "execution_count": null,
   "metadata": {},
   "outputs": [],
   "source": [
    "def calc_dt(p):\n",
    "    \n",
    "    #integration tolerance\n",
    "    ETA_TIME_STEP = 0.0004\n",
    "    \n",
    "    #compute timestep\n",
    "    eta = ETA_TIME_STEP\n",
    "    v = (p.v[0]**2 + p.v[1]**2)**0.5\n",
    "    a = (p.a_g[0]**2 + p.a_g[1]**2)**0.5\n",
    "    dt = eta * fp.min(1./np.fabs(v),1./fabs(a))\n",
    "    \n",
    "    return dt"
   ]
  },
  {
   "cell_type": "markdown",
   "metadata": {},
   "source": [
    "## Define the initial conditions"
   ]
  },
  {
   "cell_type": "code",
   "execution_count": null,
   "metadata": {},
   "outputs": [],
   "source": [
    "def SetPlanet(p,i):\n",
    "    \n",
    "    AU_in_km = 1.495979e+8 #an AU in km\n",
    "    \n",
    "    #circular velocity\n",
    "    v_c = 0.0      #circular velocity in AU/yr\n",
    "    v_e = 0.0      #velocity at perihelion i AU/yr\n",
    "    \n",
    "    #planet-by planet initial conditions\n",
    "    \n",
    "    #MERCURY\n",
    "    if(i==0):\n",
    "        #semi-major axis in AU\n",
    "        p.a = 579092227.0  #AU_in_km\n",
    "        \n",
    "        #ecentricity\n",
    "        p.e = 0.2563593\n",
    "    \n",
    "    #VENUS\n",
    "    elif(i==1):\n",
    "        #semi-major axis in AU\n",
    "        p.a = 1082094575.0  #AU_in_km\n",
    "        \n",
    "        #eccentricity\n",
    "        p.e = 0.00677672\n",
    "        \n",
    "    #EARTH\n",
    "    elif(i==2):\n",
    "        #semi-major axis in AU\n",
    "        pp.a = 1.0\n",
    "        \n",
    "        #eccentricity\n",
    "        p.e = 0.01671123\n",
    "        \n",
    "    #set remaining properties\n",
    "    p.t = 0.0\n",
    "    p.x[0] = p.a*(1.0-p.e)\n",
    "    p.x[1] = 0.0\n",
    "    \n",
    "    #get equiv circular velocity\n",
    "    v_c = solar_circular_velocity(p)\n",
    "    \n",
    "    #velocity at perihelion\n",
    "    v_c = v_c*(1 + p.e)**0.5\n",
    "    \n",
    "    #set velocity\n",
    "    p.v[0] = 0.0   #no x velocity at perihelion\n",
    "    p.v[1] = v_e   #y velocity at perihelion(counter clockwise)\n",
    "    \n",
    "    #calc gravitational acceleration from Sun\n",
    "    solar_gravitational_acceleration(p)\n",
    "    \n",
    "    #set timestep\n",
    "    p.dt = calc_dt(p)"
   ]
  },
  {
   "cell_type": "markdown",
   "metadata": {},
   "source": [
    "## Write leapfrog integrator"
   ]
  },
  {
   "cell_type": "code",
   "execution_count": null,
   "metadata": {},
   "outputs": [],
   "source": [
    "def x_first_step(x_i, v_i, a_i, dt):\n",
    "    #x_1/2 = x_0 + 1/2 v_0 Delta_t + 1/4 a_0 Delta t^2\n",
    "    return x_i + 0.5*v_i*dt + 0.25*a_i*dt**2"
   ]
  },
  {
   "cell_type": "code",
   "execution_count": null,
   "metadata": {},
   "outputs": [],
   "source": [
    "def v_full_step(x_i, v_i, a_ipoh, dt):\n",
    "    #v_i+1 = v_i + a_i+1/2 Delta t\n",
    "    return v_i + a_ipoh*dt;"
   ]
  },
  {
   "cell_type": "code",
   "execution_count": null,
   "metadata": {},
   "outputs": [],
   "source": [
    "def x_full_step(x_ipoh,v_ipl, a_ipoh, dt):\n",
    "    #x_3/2 = x_1/2 + v_i+1 Delta t\n",
    "    return x_ipoh + v_ipl*dt;"
   ]
  }
 ],
 "metadata": {
  "kernelspec": {
   "display_name": "Python 3",
   "language": "python",
   "name": "python3"
  },
  "language_info": {
   "codemirror_mode": {
    "name": "ipython",
    "version": 3
   },
   "file_extension": ".py",
   "mimetype": "text/x-python",
   "name": "python",
   "nbconvert_exporter": "python",
   "pygments_lexer": "ipython3",
   "version": "3.6.5"
  }
 },
 "nbformat": 4,
 "nbformat_minor": 2
}
